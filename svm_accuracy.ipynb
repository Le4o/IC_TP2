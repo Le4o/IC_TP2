{
 "metadata": {
  "language_info": {
   "codemirror_mode": {
    "name": "ipython",
    "version": 3
   },
   "file_extension": ".py",
   "mimetype": "text/x-python",
   "name": "python",
   "nbconvert_exporter": "python",
   "pygments_lexer": "ipython3",
   "version": "3.8.5"
  },
  "orig_nbformat": 2,
  "kernelspec": {
   "name": "python385jvsc74a57bd031f2aee4e71d21fbe5cf8b01ff0e069b9275f58929596ceb00d14d90e3e16cd6",
   "display_name": "Python 3.8.5 64-bit"
  },
  "metadata": {
   "interpreter": {
    "hash": "31f2aee4e71d21fbe5cf8b01ff0e069b9275f58929596ceb00d14d90e3e16cd6"
   }
  }
 },
 "nbformat": 4,
 "nbformat_minor": 2,
 "cells": [
  {
   "source": [
    "# SVM Accuracy classification"
   ],
   "cell_type": "markdown",
   "metadata": {}
  },
  {
   "cell_type": "code",
   "execution_count": 9,
   "metadata": {},
   "outputs": [],
   "source": [
    "import pickle5 as pickle\n",
    "import numpy as np\n",
    "import matplotlib.pyplot as plt\n",
    "from sklearn import svm\n",
    "from sklearn.metrics import accuracy_score\n",
    "\n",
    "# Importando os dados necessários do arquivo pkl\n",
    "with open('./data/dataset.pkl', 'rb') as f:\n",
    "    dataset_ob = pickle.load(f)\n",
    "    train_x_tfidf = dataset_ob['train_x_tfidf']\n",
    "    test_x_tfidf = dataset_ob['test_x_tfidf']\n",
    "    train_y = dataset_ob['train_y']\n",
    "    test_y = dataset_ob['test_y']"
   ]
  },
  {
   "cell_type": "code",
   "execution_count": 2,
   "metadata": {},
   "outputs": [
    {
     "output_type": "stream",
     "name": "stdout",
     "text": [
      "SVM Accuracy Score ->  34.025\n"
     ]
    }
   ],
   "source": [
    "# Encaixando os dados para classificação\n",
    "svm_ob = svm.SVC(C=1.0, kernel='linear', degree=3, gamma='auto')\n",
    "svm_ob.fit(train_x_tfidf, train_y)\n",
    "\n",
    "# Predizendo as labels\n",
    "predictions_SVM = svm_ob.predict(test_x_tfidf)\n",
    "\n",
    "print(\"SVM Accuracy Score -> \", accuracy_score(predictions_SVM, test_y) * 100)"
   ]
  }
 ]
}