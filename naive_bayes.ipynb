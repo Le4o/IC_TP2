{
 "metadata": {
  "language_info": {
   "codemirror_mode": {
    "name": "ipython",
    "version": 3
   },
   "file_extension": ".py",
   "mimetype": "text/x-python",
   "name": "python",
   "nbconvert_exporter": "python",
   "pygments_lexer": "ipython3",
   "version": "3.8.5"
  },
  "orig_nbformat": 2,
  "kernelspec": {
   "name": "python385jvsc74a57bd031f2aee4e71d21fbe5cf8b01ff0e069b9275f58929596ceb00d14d90e3e16cd6",
   "display_name": "Python 3.8.5 64-bit"
  },
  "metadata": {
   "interpreter": {
    "hash": "31f2aee4e71d21fbe5cf8b01ff0e069b9275f58929596ceb00d14d90e3e16cd6"
   }
  }
 },
 "nbformat": 4,
 "nbformat_minor": 2,
 "cells": [
  {
   "source": [
    "# Naive Bayes Classification"
   ],
   "cell_type": "markdown",
   "metadata": {}
  },
  {
   "cell_type": "code",
   "execution_count": 17,
   "metadata": {},
   "outputs": [],
   "source": [
    "import pickle5 as pickle\r\n",
    "from sklearn import naive_bayes\r\n",
    "from sklearn.metrics import accuracy_score\r\n",
    "\r\n",
    "# Importando os dados necessários do arquivo pkl\r\n",
    "with open('./data/dataset.pkl', 'rb') as f:\r\n",
    "    dataset_ob = pickle.load(f)\r\n",
    "    train_x_tfidf = dataset_ob['train_x_tfidf']\r\n",
    "    test_x_tfidf = dataset_ob['test_x_tfidf']\r\n",
    "    train_y = dataset_ob['train_y']\r\n",
    "    test_y = dataset_ob['test_y']"
   ]
  },
  {
   "cell_type": "code",
   "execution_count": 18,
   "metadata": {},
   "outputs": [
    {
     "output_type": "stream",
     "name": "stdout",
     "text": [
      "Naive Bayes Accuracy Score ->  31.683333333333337\n"
     ]
    }
   ],
   "source": [
    "# Encaixando os dados de treinamento para o NB classifier\n",
    "Naive = naive_bayes.MultinomialNB()\n",
    "Naive.fit(train_x_tfidf, train_y)\n",
    "\n",
    "# Predizendo os nomes dos dados de validação\n",
    "predictions_NB = Naive.predict(test_x_tfidf)\n",
    "\n",
    "# Usando a função de accuracy_score para calcular a acurácia\n",
    "print(\"Naive Bayes Accuracy Score -> \", accuracy_score(predictions_NB, test_y)*100)"
   ]
  }
 ]
}